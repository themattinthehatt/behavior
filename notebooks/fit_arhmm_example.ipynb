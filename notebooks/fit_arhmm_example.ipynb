{
 "cells": [
  {
   "cell_type": "markdown",
   "metadata": {},
   "source": [
    "# Summary\n",
    "Load a single fly dataset, preprocess the markers, and fit an arhmm using several initialization methods with multiple restarts"
   ]
  },
  {
   "cell_type": "code",
   "execution_count": null,
   "metadata": {},
   "outputs": [],
   "source": [
    "import os\n",
    "import numpy as np\n",
    "\n",
    "import matplotlib.pyplot as plt\n",
    "import ssm\n",
    "import seaborn as sns\n",
    "import pandas as pd\n",
    "\n",
    "from behavior.data import preprocess_and_split_data, shuffle_data"
   ]
  },
  {
   "cell_type": "code",
   "execution_count": null,
   "metadata": {},
   "outputs": [],
   "source": [
    "from ssm.plots import gradient_cmap, white_to_color_cmap\n",
    "sns.set_context('talk')\n",
    "sns.set_style('white')\n",
    "\n",
    "color_names = [\n",
    "    \"windows blue\",\n",
    "    \"red\",\n",
    "    \"amber\",\n",
    "    \"faded green\",\n",
    "    \"dusty purple\",\n",
    "    \"orange\"\n",
    "    ]\n",
    "\n",
    "colors = sns.xkcd_palette(color_names)\n",
    "cmap = gradient_cmap(colors)"
   ]
  },
  {
   "cell_type": "markdown",
   "metadata": {},
   "source": [
    "# 1. Load and preprocess data"
   ]
  },
  {
   "cell_type": "code",
   "execution_count": null,
   "metadata": {},
   "outputs": [],
   "source": [
    "# options\n",
    "expt_ids = ['2019_08_08_fly1']\n",
    "# expt_ids = ['2019_08_08_fly1_1']\n",
    "\n",
    "# preprocessing directives\n",
    "preprocess_list = {\n",
    "    # 'filter': {'type': 'median', 'window_size': 3},\n",
    "    'filter': {'type': 'savgol', 'window_size': 5, 'order': 2},\n",
    "    # 'standardize': {}, # zscore labels\n",
    "    'unitize': {}, # scale labels in [0, 1]\n",
    "}\n",
    "\n",
    "marker_obj = preprocess_and_split_data(\n",
    "    expt_ids, preprocess_list, algo='dgp', load_from='h5')\n",
    "\n",
    "datas_tr, tags_tr, _ = shuffle_data(dlc_obj, dtype='train')\n",
    "datas_val, tags_val, _ = shuffle_data(dlc_obj, dtype='val')\n",
    "datas_test, tags_test, _ = shuffle_data(dlc_obj, dtype='test')\n",
    "D = marker_obj[0].markers_dict['train'][0].shape[1]"
   ]
  },
  {
   "cell_type": "markdown",
   "metadata": {},
   "source": [
    "# 2. Fit ARHMM with EM"
   ]
  },
  {
   "cell_type": "code",
   "execution_count": null,
   "metadata": {},
   "outputs": [],
   "source": [
    "from behavior.ssmutils import get_expt_dir, get_model_name, fit_with_random_restarts\n",
    "from behavior.paths import RESULTS_PATH\n",
    "\n",
    "K = 8\n",
    "lags = 1\n",
    "obs = 'ar'\n",
    "num_restarts = 3\n",
    "num_iters = 100\n",
    "method = 'em'  # 'em' | 'stochastic_em_adam' | 'stochastic_em_sgd' (non-conjugate)\n",
    "\n",
    "em_models = {}\n",
    "em_lps = {}\n",
    "em_model_all = {}\n",
    "em_lps_all = {}\n",
    "\n",
    "init_types = ['random', 'kmeans', 'kmeans-diff']\n",
    "\n",
    "for it in init_types:\n",
    "    expt_dir = get_expt_dir(RESULTS_PATH, expt_ids)\n",
    "    save_path = os.path.join(\n",
    "        RESULTS_PATH, expt_dir, 'single-session_%s-init_%s' % (it, method))\n",
    "    if not os.path.exists(save_path):\n",
    "        os.makedirs(save_path)\n",
    "    em_models[it], em_lps[it], em_model_all[it], em_lps_all[it] = fit_with_random_restarts(\n",
    "        K, D, obs, lags, datas_tr, num_restarts=num_restarts, num_iters=num_iters, \n",
    "        method=method, save_path=save_path, init_type=it)"
   ]
  },
  {
   "cell_type": "markdown",
   "metadata": {},
   "source": [
    "### plot training curves"
   ]
  },
  {
   "cell_type": "code",
   "execution_count": null,
   "metadata": {},
   "outputs": [],
   "source": [
    "plt.figure()\n",
    "\n",
    "plot_all_restarts = True\n",
    "    \n",
    "for i, init_type in enumerate(init_types):\n",
    "    if plot_all_restarts:\n",
    "        for j, restart in enumerate(em_lps_all[init_type]):\n",
    "            label = init_type if j == 0 else None\n",
    "            plt.plot(restart, 'k', label=label, color=colors[i])\n",
    "    else:\n",
    "        plt.plot(em_lps[it], 'k', label=init_type, color=colors[i])\n",
    "\n",
    "plt.xlabel('Epoch')\n",
    "plt.ylabel('Log probability')\n",
    "plt.legend(bbox_to_anchor=(1.1, 1.05))\n",
    "if expt_ids[0] == '2019_08_08_fly1':\n",
    "#     plt.ylim([3540000, 3560000])\n",
    "    plt.ylim([3450000, 3470000])\n",
    "elif expt_ids[0] == '2019_08_08_fly1_1':\n",
    "    plt.ylim([4580000, 4630000])\n",
    "# plt.yscale('log')\n",
    "plt.show()    "
   ]
  },
  {
   "cell_type": "markdown",
   "metadata": {},
   "source": [
    "# 3. Create a syllable movie"
   ]
  },
  {
   "cell_type": "code",
   "execution_count": null,
   "metadata": {},
   "outputs": [],
   "source": [
    "from behavior.data import load_video\n",
    "import behavior.plotting as plotting\n",
    "\n",
    "dtype = 'train'\n",
    "\n",
    "# get states from one of the models\n",
    "arhmm = em_models['kmeans-diff']\n",
    "states = [arhmm.most_likely_states(data) for data in marker_obj[0].markers_dict[dtype]]\n",
    "\n",
    "# load video frames\n",
    "video = load_video(expt_ids[0])"
   ]
  },
  {
   "cell_type": "code",
   "execution_count": null,
   "metadata": {},
   "outputs": [],
   "source": [
    "save_file = os.path.join(RESULTS_PATH, 'figs', '%s_syllable-video.mp4' % expt_ids[0])\n",
    "plotting.make_syllable_movie(\n",
    "    save_file, states, video, marker_obj[0].idxs_dict[dtype], single_state=None, \n",
    "    min_threshold=10, n_pre_frames=0, n_buffer=10, plot_n_frames=500)"
   ]
  },
  {
   "cell_type": "markdown",
   "metadata": {},
   "source": [
    "# 4. Create a labeled movie clip"
   ]
  },
  {
   "cell_type": "code",
   "execution_count": null,
   "metadata": {},
   "outputs": [],
   "source": [
    "# get markers/states for all time points; must match up with time dim of video data\n",
    "markers_all = marker_obj[0].get_marker_array()\n",
    "states_all = arhmm.most_likely_states(markers_all)\n",
    "\n",
    "# name each state; default to non-descriptive labels for now\n",
    "state_mapping = {i: 'state %i' % i for i in range(K)}\n",
    "\n",
    "save_file = os.path.join(RESULTS_PATH, 'figs', '%s_labeled-video.mp4' % expt_ids[0])\n",
    "idxs = np.arange(0, 500)\n",
    "plotting.make_labeled_movie_wmarkers(\n",
    "    save_file, states_all, video, markers_all, idxs, state_mapping)"
   ]
  }
 ],
 "metadata": {
  "anaconda-cloud": {},
  "kernelspec": {
   "display_name": "behavior",
   "language": "python",
   "name": "behavior"
  },
  "language_info": {
   "codemirror_mode": {
    "name": "ipython",
    "version": 3
   },
   "file_extension": ".py",
   "mimetype": "text/x-python",
   "name": "python",
   "nbconvert_exporter": "python",
   "pygments_lexer": "ipython3",
   "version": "3.6.12"
  }
 },
 "nbformat": 4,
 "nbformat_minor": 1
}
